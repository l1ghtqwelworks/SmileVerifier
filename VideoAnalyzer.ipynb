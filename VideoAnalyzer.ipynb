{
 "cells": [
  {
   "cell_type": "code",
   "execution_count": 1,
   "id": "bed6a190",
   "metadata": {},
   "outputs": [],
   "source": [
    "import cv2\n",
    "import dlib\n",
    "import imutils\n",
    "from pytube import YouTube \n",
    "import moviepy.editor as mp\n",
    "import librosa\n",
    "import librosa.display"
   ]
  },
  {
   "cell_type": "code",
   "execution_count": 7,
   "id": "6b151682",
   "metadata": {},
   "outputs": [
    {
     "name": "stdout",
     "output_type": "stream",
     "text": [
      "Download is completed successfully\n"
     ]
    }
   ],
   "source": [
    "def Download(link):\n",
    "    youtubeObject = YouTube(link)\n",
    "    youtubeObject = youtubeObject.streams.get_highest_resolution()\n",
    "    try:\n",
    "        youtubeObject.download()\n",
    "    except:\n",
    "        print(\"An error has occurred\")\n",
    "    print(\"Download is completed successfully\")\n",
    "\n",
    "\n",
    "# link = input(\"Enter the YouTube video URL: \")\n",
    "Download(\"https://www.youtube.com/watch?v=eh0HifeZ64s&ab_channel=TomSimons\")"
   ]
  },
  {
   "cell_type": "code",
   "execution_count": 6,
   "id": "3052b4a1",
   "metadata": {},
   "outputs": [
    {
     "name": "stdout",
     "output_type": "stream",
     "text": [
      "MoviePy - Writing audio in temp_audio.wav\n"
     ]
    },
    {
     "name": "stderr",
     "output_type": "stream",
     "text": [
      "                                                                        \r"
     ]
    },
    {
     "name": "stdout",
     "output_type": "stream",
     "text": [
      "MoviePy - Done.\n"
     ]
    }
   ],
   "source": [
    "# Load the video\n",
    "video_path = 'video.mp4'\n",
    "video = mp.VideoFileClip(video_path)\n",
    "\n",
    "# Extract audio from the video\n",
    "audio = video.audio\n",
    "\n",
    "# Save the audio as a temporary file\n",
    "audio_temp_file = 'temp_audio.wav'\n",
    "audio.write_audiofile(audio_temp_file, codec='pcm_s16le')\n",
    "\n",
    "# Load the audio file using librosa\n",
    "y, sr = librosa.load(audio_temp_file)\n",
    "\n",
    "# Define laughter detection parameters\n",
    "hop_length = 512  # Adjust hop length based on audio characteristics\n",
    "laugh_threshold = 0.5  # Adjust threshold for laughter detection\n",
    "\n",
    "# Compute spectral centroid and mel-frequency cepstral coefficients (MFCC)\n",
    "spectral_centroids = librosa.feature.spectral_centroid(y=y, sr=sr, hop_length=hop_length)\n",
    "mfcc = librosa.feature.mfcc(y=y, sr=sr, hop_length=hop_length)"
   ]
  },
  {
   "cell_type": "code",
   "execution_count": 11,
   "id": "1c25eb0e",
   "metadata": {},
   "outputs": [
    {
     "name": "stdout",
     "output_type": "stream",
     "text": [
      "[[4569.40553629 2244.76704657 2047.91543276 ... 1756.18168438\n",
      "  1644.89787882 1800.44780758]]\n",
      "[4569.40553629 2244.76704657 2047.91543276 ... 1756.18168438 1644.89787882\n",
      " 1800.44780758]\n"
     ]
    },
    {
     "ename": "NameError",
     "evalue": "name 'plt' is not defined",
     "output_type": "error",
     "traceback": [
      "\u001b[1;31m---------------------------------------------------------------------------\u001b[0m",
      "\u001b[1;31mNameError\u001b[0m                                 Traceback (most recent call last)",
      "Input \u001b[1;32mIn [11]\u001b[0m, in \u001b[0;36m<cell line: 11>\u001b[1;34m()\u001b[0m\n\u001b[0;32m      7\u001b[0m         laugh_segments\u001b[38;5;241m.\u001b[39mappend(i)\n\u001b[0;32m      9\u001b[0m \u001b[38;5;66;03m# Display the audio waveform with laughter segments\u001b[39;00m\n\u001b[0;32m     10\u001b[0m \u001b[38;5;66;03m# librosa.display.waveplot(y, sr=sr)\u001b[39;00m\n\u001b[1;32m---> 11\u001b[0m \u001b[43mplt\u001b[49m\u001b[38;5;241m.\u001b[39mvlines(laugh_segments, \u001b[38;5;241m-\u001b[39m\u001b[38;5;241m1\u001b[39m, \u001b[38;5;241m1\u001b[39m, color\u001b[38;5;241m=\u001b[39m\u001b[38;5;124m'\u001b[39m\u001b[38;5;124mr\u001b[39m\u001b[38;5;124m'\u001b[39m, linestyle\u001b[38;5;241m=\u001b[39m\u001b[38;5;124m'\u001b[39m\u001b[38;5;124m--\u001b[39m\u001b[38;5;124m'\u001b[39m, label\u001b[38;5;241m=\u001b[39m\u001b[38;5;124m'\u001b[39m\u001b[38;5;124mLaughter\u001b[39m\u001b[38;5;124m'\u001b[39m)\n\u001b[0;32m     12\u001b[0m plt\u001b[38;5;241m.\u001b[39mtitle(\u001b[38;5;124m'\u001b[39m\u001b[38;5;124mLaughter Detection\u001b[39m\u001b[38;5;124m'\u001b[39m)\n\u001b[0;32m     13\u001b[0m plt\u001b[38;5;241m.\u001b[39mxlabel(\u001b[38;5;124m'\u001b[39m\u001b[38;5;124mTime\u001b[39m\u001b[38;5;124m'\u001b[39m)\n",
      "\u001b[1;31mNameError\u001b[0m: name 'plt' is not defined"
     ]
    }
   ],
   "source": [
    "# Detect laughter based on the spectral centroid and MFCC\n",
    "laugh_segments = []\n",
    "print(spectral_centroids)\n",
    "for i in range(len(spectral_centroids)):\n",
    "    print(spectral_centroids[i])\n",
    "    if spectral_centroids[i][0] > laugh_threshold:\n",
    "        laugh_segments.append(i)\n",
    "\n",
    "# Display the audio waveform with laughter segments\n",
    "# librosa.display.waveplot(y, sr=sr)\n",
    "plt.vlines(laugh_segments, -1, 1, color='r', linestyle='--', label='Laughter')\n",
    "plt.title('Laughter Detection')\n",
    "plt.xlabel('Time')\n",
    "plt.ylabel('Amplitude')\n",
    "plt.legend()\n",
    "plt.show()\n",
    "\n",
    "# Remove the temporary audio file\n",
    "os.remove(audio_temp_file)"
   ]
  },
  {
   "cell_type": "code",
   "execution_count": null,
   "id": "85170bf0",
   "metadata": {},
   "outputs": [],
   "source": []
  }
 ],
 "metadata": {
  "kernelspec": {
   "display_name": "Python 3 (ipykernel)",
   "language": "python",
   "name": "python3"
  },
  "language_info": {
   "codemirror_mode": {
    "name": "ipython",
    "version": 3
   },
   "file_extension": ".py",
   "mimetype": "text/x-python",
   "name": "python",
   "nbconvert_exporter": "python",
   "pygments_lexer": "ipython3",
   "version": "3.9.12"
  }
 },
 "nbformat": 4,
 "nbformat_minor": 5
}
