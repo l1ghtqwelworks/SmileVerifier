{
 "cells": [
  {
   "cell_type": "code",
   "execution_count": 2,
   "id": "6b731be0",
   "metadata": {},
   "outputs": [],
   "source": [
    "import cv2\n",
    "\n",
    "from matplotlib import pyplot as plt\n",
    "import numpy as np\n",
    "from IPython.display import display"
   ]
  },
  {
   "cell_type": "code",
   "execution_count": 8,
   "id": "b9f10283",
   "metadata": {},
   "outputs": [],
   "source": [
    "crop_seperator = \"-\"\n",
    "\n",
    "def is_cropped(path: str):\n",
    "    return crop_seperator in path\n",
    "\n",
    "def get_cropped_path(path_split: list, count: int):\n",
    "    return path_split[0] + crop_seperator + str(count) + \".\" + path_split[1]"
   ]
  },
  {
   "cell_type": "code",
   "execution_count": 15,
   "id": "baaca73c",
   "metadata": {
    "scrolled": true
   },
   "outputs": [
    {
     "name": "stdout",
     "output_type": "stream",
     "text": [
      "1620000\n"
     ]
    }
   ],
   "source": [
    "def crop_face(imgpath: str):\n",
    "    img = cv2.imread(imgpath)\n",
    "\n",
    "    # Convert into grayscale\n",
    "    gray = cv2.cvtColor(img, cv2.COLOR_BGR2GRAY)\n",
    "\n",
    "    # Load the cascade\n",
    "    face_cascade = cv2.CascadeClassifier(cv2.data.haarcascades + 'haarcascade_frontalface_alt2.xml')\n",
    "\n",
    "    # Detect faces\n",
    "    faces = face_cascade.detectMultiScale(gray, 1.1, 4)\n",
    "\n",
    "    # Crop the faces and save into files\n",
    "    count = 0\n",
    "    path_split = imgpath.split(\".\")\n",
    "    for (x, y, w, h) in faces:\n",
    "        # cv2.rectangle(img, (x, y), (x+w, y+h), (0, 0, 255), 2) ## this can draw a rectangle around the face\n",
    "        faces = img[y:y + h, x:x + w]\n",
    "        \n",
    "        if(faces.shape[0] > 100):\n",
    "#             cv2.imshow(\"face\",faces)\n",
    "            cv2.imwrite(get_cropped_path(path_split, count), faces)\n",
    "\n",
    "            count += 1\n",
    "\n",
    "    # Print last face and it's size\n",
    "    print(img.size)\n",
    "#     img2 = faces[:,:,::-1]\n",
    "#     plt.imshow(img2)\n",
    "\n",
    "crop_face('TestSmiles/Sad/0000.png')"
   ]
  },
  {
   "cell_type": "code",
   "execution_count": 11,
   "id": "9f7de3ab",
   "metadata": {},
   "outputs": [],
   "source": [
    "import os\n",
    "targetdir = 'TestSmiles'\n",
    "\n",
    "for subdir, dirs, files in os.walk(targetdir):\n",
    "    for file in files:\n",
    "        file_path = os.path.join(subdir, file)\n",
    "        if not is_cropped(file_path):\n",
    "            print(f\"cropping {file_path}\")\n",
    "            crop_face(file_path)\n",
    "            os.remove(file_path)"
   ]
  },
  {
   "cell_type": "code",
   "execution_count": null,
   "id": "a75b47b3",
   "metadata": {},
   "outputs": [],
   "source": []
  }
 ],
 "metadata": {
  "kernelspec": {
   "display_name": "Python 3 (ipykernel)",
   "language": "python",
   "name": "python3"
  },
  "language_info": {
   "codemirror_mode": {
    "name": "ipython",
    "version": 3
   },
   "file_extension": ".py",
   "mimetype": "text/x-python",
   "name": "python",
   "nbconvert_exporter": "python",
   "pygments_lexer": "ipython3",
   "version": "3.9.12"
  }
 },
 "nbformat": 4,
 "nbformat_minor": 5
}
